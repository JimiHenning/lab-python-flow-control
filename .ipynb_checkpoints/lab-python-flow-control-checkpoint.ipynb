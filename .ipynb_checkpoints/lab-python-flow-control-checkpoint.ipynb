{
 "cells": [
  {
   "cell_type": "markdown",
   "id": "d3bfc191-8885-42ee-b0a0-bbab867c6f9f",
   "metadata": {
    "tags": []
   },
   "source": [
    "# Lab | Flow Control"
   ]
  },
  {
   "cell_type": "markdown",
   "id": "36429605-5618-4209-bb0c-0384898a69e6",
   "metadata": {},
   "source": [
    "## Exercise: Managing Customer Orders Optimized\n",
    "\n",
    "In the last lab, you were starting an online store that sells various products. To ensure smooth operations, you developed a program that manages customer orders and inventory.\n",
    "\n",
    "You did so without using flow control. Let's go a step further and improve this code.\n",
    "\n",
    "Follow the steps below to complete the exercise:\n",
    "\n",
    "1. Look at your code from the lab data structures, and improve repeated code with loops.\n",
    "\n",
    "2. Instead of asking the user to input the name of three products that a customer wants to order, do the following:\n",
    "    \n",
    "    a. Prompt the user to enter the name of a product that a customer wants to order.\n",
    "    \n",
    "    b. Add the product name to the \"customer_orders\" set.\n",
    "    \n",
    "    c. Ask the user if they want to add another product (yes/no).\n",
    "    \n",
    "    d. Continue the loop until the user does not want to add another product.\n",
    "\n",
    "3. Instead of updating the inventory by subtracting 1 from the quantity of each product, only do it for  the products that were ordered (those in \"customer_orders\")."
   ]
  },
  {
   "cell_type": "code",
   "execution_count": null,
   "id": "3b06856e-62c3-448d-8bf4-2e7323ca3f3e",
   "metadata": {},
   "outputs": [],
   "source": []
  },
  {
   "cell_type": "code",
   "execution_count": 8,
   "id": "db99851b-f9a4-4c1e-8640-c0a491fa22dc",
   "metadata": {},
   "outputs": [
    {
     "name": "stdin",
     "output_type": "stream",
     "text": [
      "How many t-shirts are in the inventory? 5\n",
      "How many mugs are in the inventory? 5\n",
      "How many hats are in the inventory? 5\n",
      "How many books are in the inventory? 5\n",
      "How many keychains are in the inventory? 5\n"
     ]
    },
    {
     "name": "stdout",
     "output_type": "stream",
     "text": [
      "The inventory contains the following items: {'t-shirt': 5, 'mug': 5, 'hat': 5, 'book': 5, 'keychain': 5}\n"
     ]
    },
    {
     "name": "stdin",
     "output_type": "stream",
     "text": [
      "Please enter an item from the inventory the customer wants to order: mug\n",
      "Do you want to order another item, yes or no? hat\n"
     ]
    },
    {
     "name": "stdout",
     "output_type": "stream",
     "text": [
      "Please enter either 'yes' or 'no'!\n"
     ]
    },
    {
     "name": "stdin",
     "output_type": "stream",
     "text": [
      "Do you want to order another item, yes or no?  yes\n",
      "Please enter an item from the inventory the customer wants to order: hat\n",
      "Do you want to order another item, yes or no?  yes\n",
      "Please enter an item from the inventory the customer wants to order: keychain\n",
      "Do you want to order another item, yes or no?  mug\n"
     ]
    },
    {
     "name": "stdout",
     "output_type": "stream",
     "text": [
      "Please enter either 'yes' or 'no'!\n"
     ]
    },
    {
     "name": "stdin",
     "output_type": "stream",
     "text": [
      "Do you want to order another item, yes or no?  no\n"
     ]
    },
    {
     "name": "stdout",
     "output_type": "stream",
     "text": [
      "Thank you for your order!\n",
      "The customer ordered: {'keychain', 'hat', 'mug'}\n",
      "The total number of products ordered is: 3\n",
      "The total number of available products is: 25\n",
      "Order Statistics:\n",
      "Total Products Ordered:3\n",
      "Percentage of Products Ordered:12.0%\n",
      "The updated inventory is:\n",
      "t-shirts: 5\n",
      "mugs: 4\n",
      "hats: 4\n",
      "books: 5\n",
      "keychains: 4\n"
     ]
    }
   ],
   "source": [
    "products = [\"t-shirt\", \"mug\", \"hat\", \"book\", \"keychain\"]\n",
    "inventory = {}\n",
    "\n",
    "#ask the user for the quantity of each product in the list\n",
    "for item in products:\n",
    "    #Loop until a valid integer has been entered\n",
    "    quantity = input(f\"How many {item}s are in the inventory?\")\n",
    "    while quantity.isdigit() == False:\n",
    "        print (\"Please enter a numerical value!\")\n",
    "        quantity = input(f\"How many {item}s are in the inventory?\")\n",
    "    else:\n",
    "        quantity = int(quantity)\n",
    "        inventory[item] = quantity  \n",
    "\n",
    "print (\"The inventory contains the following items:\", inventory)\n",
    "\n",
    "\n",
    "customer_orders = set()\n",
    "\n",
    "order = input(\"Please enter an item from the inventory the customer wants to order:\")    \n",
    "while order not in products:\n",
    "    print (\"Item not in Inventory!\")\n",
    "    order = input(\"Please enter an item from the inventory the customer wants to order:\")\n",
    "else:\n",
    "    customer_orders.add(order)\n",
    "\n",
    "\n",
    "order_continue = input(\"Do you want to order another item, yes or no?\")\n",
    "\n",
    "while True:\n",
    "        while order_continue not in [\"yes\", \"no\"]:\n",
    "            print(\"Please enter either 'yes' or 'no'!\")\n",
    "            order_continue = input(\"Do you want to order another item, yes or no? \")\n",
    "\n",
    "        if order_continue == \"no\":\n",
    "            print(\"Thank you for your order!\")\n",
    "            break\n",
    "        else:\n",
    "            order = input(\"Please enter an item from the inventory the customer wants to order:\")\n",
    "            while order not in products:\n",
    "                print (\"Item not in Inventory!\")\n",
    "                order = input(\"Please enter an item from the inventory the customer wants to order:\")\n",
    "\n",
    "            customer_orders.add(order)\n",
    "\n",
    "            order_continue = input(\"Do you want to order another item, yes or no? \")\n",
    "    \n",
    "\n",
    "\n",
    "print (f\"The customer ordered: {customer_orders}\")\n",
    "\n",
    "print (\"The total number of products ordered is:\", len(customer_orders))\n",
    "\n",
    "products_total = sum(inventory.values())\n",
    "print (\"The total number of available products is:\", products_total)\n",
    "\n",
    "percentage = len(customer_orders)/products_total*100\n",
    "order_statistics = (len(customer_orders), percentage)\n",
    "print (f\"Order Statistics:\\nTotal Products Ordered:{order_statistics[0]}\\nPercentage of Products Ordered:{order_statistics[1]}%\")\n",
    "\n",
    "\n",
    "for i in range (0,len(products)):\n",
    "    if products[i] in customer_orders:\n",
    "        inventory[products[i]] -= 1\n",
    "\n",
    "print (\"The updated inventory is:\")\n",
    "for key, value in inventory.items():\n",
    "    print (f\"{key}s: {value}\")"
   ]
  },
  {
   "cell_type": "code",
   "execution_count": null,
   "id": "b6d2ebfd-aef0-4d8e-b1d9-e9eed5eb3922",
   "metadata": {},
   "outputs": [],
   "source": []
  }
 ],
 "metadata": {
  "kernelspec": {
   "display_name": "Python 3 (ipykernel)",
   "language": "python",
   "name": "python3"
  },
  "language_info": {
   "codemirror_mode": {
    "name": "ipython",
    "version": 3
   },
   "file_extension": ".py",
   "mimetype": "text/x-python",
   "name": "python",
   "nbconvert_exporter": "python",
   "pygments_lexer": "ipython3",
   "version": "3.12.4"
  }
 },
 "nbformat": 4,
 "nbformat_minor": 5
}
